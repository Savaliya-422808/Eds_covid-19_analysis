{
 "cells": [
  {
   "cell_type": "markdown",
   "id": "c6c45023",
   "metadata": {},
   "source": [
    "# SIR Modelling"
   ]
  },
  {
   "cell_type": "markdown",
   "id": "5c542315",
   "metadata": {},
   "source": [
    "* Creation of Dynamic dashboard\n",
    "* Compare original fit with SIR fit"
   ]
  },
  {
   "cell_type": "code",
   "execution_count": null,
   "id": "099e1772",
   "metadata": {},
   "outputs": [],
   "source": [
    "import pandas as pd\n",
    "import numpy as np\n",
    "\n",
    "from datetime import datetime\n",
    "import pandas as pd \n",
    "\n",
    "from scipy import optimize\n",
    "from scipy import integrate\n",
    "\n",
    "%matplotlib inline\n",
    "import matplotlib as mpl\n",
    "import matplotlib.pyplot as plt\n",
    "\n",
    "import seaborn as sns\n",
    "\n",
    "\n",
    "sns.set(style=\"darkgrid\")\n",
    "\n",
    "mpl.rcParams['figure.figsize'] = (16, 9)\n",
    "pd.set_option('display.max_rows', 500)"
   ]
  },
  {
   "cell_type": "code",
   "execution_count": null,
   "id": "f30e0c4c",
   "metadata": {},
   "outputs": [],
   "source": [
    "df_analyse=pd.read_csv(r\"C:\\Users\\pinak savaliya\\eds_covid-19_analysis\\data\\processed\\COVID_small_flat_table.csv\",sep=';')  \n",
    "df_analyse.sort_values('date',ascending=True).tail()"
   ]
  },
  {
   "cell_type": "code",
   "execution_count": null,
   "id": "b736eb2b",
   "metadata": {},
   "outputs": [],
   "source": [
    "df_analyse.Germany[35]"
   ]
  },
  {
   "cell_type": "code",
   "execution_count": null,
   "id": "da7bf8ef",
   "metadata": {},
   "outputs": [],
   "source": [
    "N0=1000000 #max susceptible population \n",
    "beta=0.8  # recovery coefficient\n",
    "gamma=0.1  # Transmission coefficient\n",
    "# beta/gamma is known as reproduction rate, it is chosen as 4 meaning 1 person can infect 4 people\n",
    "# condition I0+S0+R0=N0\n",
    "I0=df_analyse.Italy[35]\n",
    "S0=N0-I0\n",
    "R0=0"
   ]
  },
  {
   "cell_type": "code",
   "execution_count": null,
   "id": "c8e0796d",
   "metadata": {},
   "outputs": [],
   "source": [
    "def SIR_model(SIR,beta,gamma):\n",
    "    ''' Simple SIR model\n",
    "        S: susceptible population\n",
    "        I: infected people\n",
    "        R: recovered people\n",
    "        beta: \n",
    "        \n",
    "        dS+dI+dR=0\n",
    "        S+I+R= N (constant population size)\n",
    "    \n",
    "    '''\n",
    "    \n",
    "    S,I,R=SIR\n",
    "    dS_dt=-beta*S*I/N0          \n",
    "    dI_dt=beta*S*I/N0-gamma*I\n",
    "    dR_dt=gamma*I\n",
    "    return([dS_dt,dI_dt,dR_dt])"
   ]
  },
  {
   "cell_type": "markdown",
   "id": "88cb378b",
   "metadata": {},
   "source": [
    "**Simulative approach to calculate SIR curves**"
   ]
  },
  {
   "cell_type": "code",
   "execution_count": null,
   "id": "141850c4",
   "metadata": {
    "scrolled": true
   },
   "outputs": [],
   "source": [
    "SIR=np.array([S0,I0,R0])\n",
    "propagation_rates=pd.DataFrame(columns={'susceptible':S0,\n",
    "                                        'infected':I0,\n",
    "                                        'recoverd':R0})\n",
    "\n",
    "\n",
    "\n",
    "for each_t in np.arange(100):\n",
    "   \n",
    "    new_delta_vec=SIR_model(SIR,beta,gamma)\n",
    "   \n",
    "    SIR=SIR+new_delta_vec\n",
    "    \n",
    "    propagation_rates=propagation_rates.append({'susceptible':SIR[0],\n",
    "                                                'infected':SIR[1],\n",
    "                                                'recovered':SIR[2]}, ignore_index=True)"
   ]
  },
  {
   "cell_type": "code",
   "execution_count": null,
   "id": "711e618c",
   "metadata": {},
   "outputs": [],
   "source": [
    "propagation_rates"
   ]
  },
  {
   "cell_type": "code",
   "execution_count": null,
   "id": "9dba5df6",
   "metadata": {},
   "outputs": [],
   "source": [
    "fig, ax1 = plt.subplots(1, 1)\n",
    "\n",
    "ax1.plot(propagation_rates.index,propagation_rates.infected,label='infected',color='k')\n",
    "ax1.plot(propagation_rates.index,propagation_rates.recovered,label='recovered')\n",
    "ax1.plot(propagation_rates.index,propagation_rates.susceptible,label='susceptible')\n",
    "\n",
    "ax1.set_ylim(10, 1000000)\n",
    "ax1.set_yscale('linear')\n",
    "ax1.set_title('Szenario SIR simulations  (demonstration purposes only)',size=16)\n",
    "ax1.set_xlabel('time in days',size=16)\n",
    "ax1.legend(loc='best',\n",
    "           prop={'size': 16});"
   ]
  },
  {
   "cell_type": "markdown",
   "id": "56357652",
   "metadata": {},
   "source": [
    "**SIR Modelling parameter fitting**"
   ]
  },
  {
   "cell_type": "code",
   "execution_count": null,
   "id": "2c8c18ed",
   "metadata": {},
   "outputs": [],
   "source": [
    "ydata = np.array(df_analyse.Germany[35:])\n",
    "t=np.arange(len(ydata))"
   ]
  },
  {
   "cell_type": "code",
   "execution_count": null,
   "id": "8f92b919",
   "metadata": {},
   "outputs": [],
   "source": [
    "# re-initialization \n",
    "I0=ydata[0]\n",
    "S0=N0-I0\n",
    "R0=0\n",
    "beta"
   ]
  },
  {
   "cell_type": "code",
   "execution_count": null,
   "id": "62c1edd1",
   "metadata": {},
   "outputs": [],
   "source": [
    "def SIR_model_t(SIR,t,beta,gamma):\n",
    "    ''' Simple SIR model\n",
    "        S: susceptible population\n",
    "        t: time step, mandatory for integral.odeint\n",
    "        I: infected people\n",
    "        R: recovered people\n",
    "        beta: \n",
    "        \n",
    "        overall condition is that the sum of changes (differnces) sum up to 0\n",
    "        dS+dI+dR=0\n",
    "        S+I+R= N (constant size of population)\n",
    "    \n",
    "    '''\n",
    "    \n",
    "    S,I,R=SIR\n",
    "    dS_dt=-beta*S*I/N0          \n",
    "    dI_dt=beta*S*I/N0-gamma*I\n",
    "    dR_dt=gamma*I\n",
    "    return dS_dt,dI_dt,dR_dt"
   ]
  },
  {
   "cell_type": "code",
   "execution_count": null,
   "id": "f07ce38f",
   "metadata": {},
   "outputs": [],
   "source": [
    "def fit_odeint(x, beta, gamma):\n",
    "    '''\n",
    "    helper function for the integration\n",
    "    '''\n",
    "    return integrate.odeint(SIR_model_t, (S0, I0, R0), t, args=(beta, gamma))[:,1] # only dI is expected"
   ]
  },
  {
   "cell_type": "code",
   "execution_count": null,
   "id": "5708b2de",
   "metadata": {},
   "outputs": [],
   "source": [
    "# curve for diff. equation\n",
    "popt=[0.4,0.1]\n",
    "fit_odeint(t, *popt)"
   ]
  },
  {
   "cell_type": "markdown",
   "id": "43f7b64a",
   "metadata": {},
   "source": [
    "The curves needs to be fitted. Beta and gamma are the free paramaters."
   ]
  },
  {
   "cell_type": "markdown",
   "id": "4f6466fa",
   "metadata": {},
   "source": [
    "**Dynamic beta in SIR (Infection Rate)**"
   ]
  },
  {
   "cell_type": "code",
   "execution_count": null,
   "id": "653ed87f",
   "metadata": {},
   "outputs": [],
   "source": [
    "t_initial=28\n",
    "t_intro_measures=14\n",
    "t_hold=21\n",
    "t_relax=21\n",
    "\n",
    "beta_max=0.4\n",
    "beta_min=0.11\n",
    "gamma=0.1\n",
    "pd_beta=np.concatenate((np.array(t_initial*[beta_max]),\n",
    "                       np.linspace(beta_max,beta_min,t_intro_measures),\n",
    "                       np.array(t_hold*[beta_min]),\n",
    "                        np.linspace(beta_min,beta_max,t_relax),\n",
    "                       ))"
   ]
  },
  {
   "cell_type": "code",
   "execution_count": null,
   "id": "a9b41f2b",
   "metadata": {
    "scrolled": true
   },
   "outputs": [],
   "source": [
    "pd_beta"
   ]
  },
  {
   "cell_type": "code",
   "execution_count": null,
   "id": "6f2b967b",
   "metadata": {},
   "outputs": [],
   "source": [
    "SIR=np.array([S0,I0,R0])\n",
    "propagation_rates=pd.DataFrame(columns={'susceptible':S0,\n",
    "                                        'infected':I0,\n",
    "                                        'recovered':R0})\n",
    "\n",
    "\n",
    "\n",
    "for each_beta in pd_beta:\n",
    "   \n",
    "    new_delta_vec=SIR_model(SIR,each_beta,gamma)\n",
    "   \n",
    "    SIR=SIR+new_delta_vec\n",
    "    \n",
    "    propagation_rates=propagation_rates.append({'susceptible':SIR[0],\n",
    "                                                'infected':SIR[1],\n",
    "                                                'recovered':SIR[2]}, ignore_index=True)"
   ]
  },
  {
   "cell_type": "code",
   "execution_count": null,
   "id": "72b356fb",
   "metadata": {},
   "outputs": [],
   "source": [
    "propagation_rates"
   ]
  },
  {
   "cell_type": "code",
   "execution_count": null,
   "id": "8f5581d3",
   "metadata": {},
   "outputs": [],
   "source": [
    "fig, ax1 = plt.subplots(1, 1)\n",
    "\n",
    "ax1.plot(propagation_rates.index,propagation_rates.infected,label='infected',linewidth=3)\n",
    "\n",
    "t_phases=np.array([t_initial,t_intro_measures,t_hold,t_relax]).cumsum()\n",
    "ax1.bar(np.arange(len(ydata[0:40])),ydata[0:40],width = 0.8,label=' current infected Germany',color='r')\n",
    "ax1.axvspan(0,t_phases[0], facecolor='b', alpha=0.2,label='no measures')\n",
    "ax1.axvspan(t_phases[0],t_phases[1],  facecolor='b', alpha=0.3,label='hard measures introduced')\n",
    "ax1.axvspan(t_phases[1],t_phases[2], facecolor='b', alpha=0.4,label='hold measures')\n",
    "ax1.axvspan(t_phases[2],t_phases[3], facecolor='b', alpha=0.5,label='relax measures')\n",
    "ax1.axvspan(t_phases[3],len(propagation_rates.infected), facecolor='b', alpha=0.6,label='repead hard measures')\n",
    "\n",
    "ax1.set_ylim(10, 1.5*max(propagation_rates.infected))\n",
    "ax1.set_yscale('log')\n",
    "ax1.set_title('Szenario SIR simulations  (demonstration purposes only)',size=16)\n",
    "ax1.set_xlabel('time in days',size=16)\n",
    "ax1.legend(loc='best',\n",
    "           prop={'size': 16});"
   ]
  },
  {
   "cell_type": "code",
   "execution_count": null,
   "id": "246f227e",
   "metadata": {},
   "outputs": [],
   "source": [
    "t_phases"
   ]
  },
  {
   "cell_type": "markdown",
   "id": "ed51d441",
   "metadata": {},
   "source": [
    "# SIR fit curve - Dynamic Dashboard"
   ]
  },
  {
   "cell_type": "markdown",
   "id": "37218a7b",
   "metadata": {},
   "source": [
    "* Dynamic dashoard for fit curve\n",
    "* SIR curve of various countries\n"
   ]
  },
  {
   "cell_type": "code",
   "execution_count": null,
   "id": "4683f87a",
   "metadata": {},
   "outputs": [],
   "source": [
    "df_analyse=pd.read_csv(r\"C:\\Users\\pinak savaliya\\eds_covid-19_analysis\\data\\processed\\COVID_small_flat_table.csv\",sep=';')  \n",
    "df_analyse.sort_values('date',ascending=True).tail()"
   ]
  },
  {
   "cell_type": "code",
   "execution_count": null,
   "id": "0ae81023",
   "metadata": {},
   "outputs": [],
   "source": [
    "# Extracting data of desired countries\n",
    "df_an = df_analyse[['date','Italy','Germany']]\n",
    "df_an"
   ]
  },
  {
   "cell_type": "code",
   "execution_count": null,
   "id": "59db97ca",
   "metadata": {},
   "outputs": [],
   "source": [
    "df_an = df_an.iloc[35:,]\n",
    "df_an"
   ]
  },
  {
   "cell_type": "code",
   "execution_count": null,
   "id": "78bfc6c1",
   "metadata": {},
   "outputs": [],
   "source": [
    "N0=1000000 #max susceptible population \n",
    "beta=0.4  # recovery coefficient\n",
    "gamma=0.1  # Transmission coefficient\n",
    "\n",
    "# Generating a dataframe of infected, recovered and susceptible population of the selected countries\n",
    "df = pd.DataFrame()\n",
    "country_list = ['Italy','Germany']\n",
    "for country in country_list:\n",
    "    I0 = df_an._get_value(35,country)\n",
    "    S0=N0-I0\n",
    "    R0=0\n",
    "    \n",
    "    dict1 = {'country': country, 'susceptible':S0, 'infected':I0,'recovered':R0}\n",
    "                                           \n",
    "    \n",
    "    \n",
    "    df = df.append(dict1, ignore_index=True)\n",
    "print(df)"
   ]
  },
  {
   "cell_type": "markdown",
   "id": "775ec973",
   "metadata": {},
   "source": [
    "**Simulative approach to calculate SIR curve**"
   ]
  },
  {
   "cell_type": "code",
   "execution_count": null,
   "id": "4c11bdd2",
   "metadata": {},
   "outputs": [],
   "source": [
    "N0=1000000 #max susceptible population \n",
    "beta=0.4  # recovery coefficient\n",
    "gamma=0.1  # Transmission coefficient\n",
    "propagation_rates=pd.DataFrame(index = [country],columns={'susceptible':S0,\n",
    "                                           'infected':I0,\n",
    "                                           'recoverd':R0})\n",
    "\n",
    "def SIR_model(SIR,beta,gamma):\n",
    "    ''' Simple SIR model\n",
    "        S: susceptible population\n",
    "        I: infected people\n",
    "        R: recovered people\n",
    "        beta: \n",
    "        \n",
    "        overall condition is that the sum of changes (differnces) sum up to 0\n",
    "        dS+dI+dR=0\n",
    "        S+I+R= N (constant size of population)\n",
    "    \n",
    "    '''\n",
    "    \n",
    "    S,I,R=SIR\n",
    "    dS_dt=-beta*S*I/N0          \n",
    "    dI_dt=beta*S*I/N0-gamma*I\n",
    "    dR_dt=gamma*I\n",
    "    return([dS_dt,dI_dt,dR_dt])\n",
    "\n",
    "country_list = ['Italy','Germany','Canada']\n",
    "for country in country_list:\n",
    "    I0 = df_an._get_value(35,country)\n",
    "    S0=N0-I0\n",
    "    R0=0\n",
    "    \n",
    "    SIR=np.array([S0,I0,R0])\n",
    "    \n",
    "    for each_t in np.arange(100):\n",
    "        new_delta_vec=SIR_model(SIR,beta,gamma)\n",
    "   \n",
    "        SIR=SIR+new_delta_vec\n",
    "    \n",
    "        propagation_rates=propagation_rates.append({'country': country,'susceptible':SIR[0],\n",
    "                                                'infected':SIR[1],\n",
    "                                                'recovered':SIR[2]}, ignore_index=True)\n",
    "\n",
    "\n",
    "        \n",
    "print(propagation_rates.head())"
   ]
  },
  {
   "cell_type": "markdown",
   "id": "a55634e3",
   "metadata": {},
   "source": [
    "**SIR_curve-Italy**"
   ]
  },
  {
   "cell_type": "code",
   "execution_count": null,
   "id": "ad213d3a",
   "metadata": {},
   "outputs": [],
   "source": [
    "fig, ax1 = plt.subplots(1,1)\n",
    "\n",
    "ax1.plot(propagation_rates.index[0:101],propagation_rates.infected[0:101],label='infected',color='k')\n",
    "ax1.plot(propagation_rates.index[0:101],propagation_rates.recovered[0:101],label='recovered')\n",
    "ax1.plot(propagation_rates.index[0:101],propagation_rates.susceptible[0:101],label='susceptible')\n",
    "\n",
    "ax1.set_ylim(10, 1000000)\n",
    "ax1.set_yscale('linear')\n",
    "ax1.set_title('Senario SIR simulations  (demonstration purposes only)',size=16)\n",
    "ax1.set_xlabel('time in days',size=16)\n",
    "ax1.legend(loc='best',\n",
    "           prop={'size': 16});"
   ]
  },
  {
   "cell_type": "markdown",
   "id": "c7a6389a",
   "metadata": {},
   "source": [
    "**SIR_curve-Germany**"
   ]
  },
  {
   "cell_type": "code",
   "execution_count": null,
   "id": "3301a872",
   "metadata": {},
   "outputs": [],
   "source": [
    "fig, ax1 = plt.subplots(1,1)\n",
    "\n",
    "ax1.plot(propagation_rates.index[101:201],propagation_rates.infected[101:201],label='infected',color='k')\n",
    "ax1.plot(propagation_rates.index[101:201],propagation_rates.recovered[101:201],label='recovered')\n",
    "ax1.plot(propagation_rates.index[101:201],propagation_rates.susceptible[101:201],label='susceptible')\n",
    "\n",
    "ax1.set_ylim(10, 1000000)\n",
    "ax1.set_yscale('linear')\n",
    "ax1.set_title('Senario SIR simulations  (demonstration purposes only)',size=16)\n",
    "ax1.set_xlabel('time in days',size=16)\n",
    "ax1.legend(loc='best',\n",
    "           prop={'size': 16});"
   ]
  },
  {
   "cell_type": "markdown",
   "id": "9bf7fa1c",
   "metadata": {},
   "source": [
    "**SIR_curve-Canada**"
   ]
  },
  {
   "cell_type": "code",
   "execution_count": null,
   "id": "89ab33fd",
   "metadata": {},
   "outputs": [],
   "source": [
    "fig, ax1 = plt.subplots(1,1)\n",
    "\n",
    "ax1.plot(propagation_rates.index[201:301],propagation_rates.infected[201:301],label='infected',color='k')\n",
    "ax1.plot(propagation_rates.index[201:301],propagation_rates.recovered[201:301],label='recovered')\n",
    "ax1.plot(propagation_rates.index[201:301],propagation_rates.susceptible[201:301],label='susceptible')\n",
    "\n",
    "ax1.set_ylim(10, 1000000)\n",
    "ax1.set_yscale('linear')\n",
    "ax1.set_title('Senario SIR simulations  (demonstration purposes only)',size=16)\n",
    "ax1.set_xlabel('time in days',size=16)\n",
    "ax1.legend(loc='best',\n",
    "           prop={'size': 16});"
   ]
  },
  {
   "cell_type": "markdown",
   "id": "515b91a3",
   "metadata": {},
   "source": [
    "**Fitting parameters for SIR Model**"
   ]
  },
  {
   "cell_type": "code",
   "execution_count": null,
   "id": "b779319d",
   "metadata": {},
   "outputs": [],
   "source": [
    "def SIR_model_t(SIR,t,beta,gamma):\n",
    "    ''' Simple SIR model\n",
    "        S: susceptible population\n",
    "        t: time step, mandatory for integral.odeint\n",
    "        I: infected people\n",
    "        R: recovered people\n",
    "        beta: \n",
    "        \n",
    "        overall condition is that the sum of changes (differnces) sum up to 0\n",
    "        dS+dI+dR=0\n",
    "        S+I+R= N (constant size of population)\n",
    "    \n",
    "    '''\n",
    "    \n",
    "    S,I,R=SIR\n",
    "    dS_dt=-beta*S*I/N0          \n",
    "    dI_dt=beta*S*I/N0-gamma*I\n",
    "    dR_dt=gamma*I\n",
    "    return dS_dt,dI_dt,dR_dt"
   ]
  },
  {
   "cell_type": "code",
   "execution_count": null,
   "id": "70674234",
   "metadata": {},
   "outputs": [],
   "source": [
    "def fit_odeint(x, beta, gamma):\n",
    "    '''\n",
    "    helper function for the integration\n",
    "    '''\n",
    "    return integrate.odeint(SIR_model_t, (S0, I0, R0), t, args=(beta, gamma))[:,1] "
   ]
  },
  {
   "cell_type": "code",
   "execution_count": null,
   "id": "83a1abda",
   "metadata": {
    "scrolled": true
   },
   "outputs": [],
   "source": [
    "country_list = ['Italy','Germany']\n",
    "df1 = pd.DataFrame()\n",
    "for country in country_list:\n",
    "    ydata = np.array(df_analyse[country][35:])\n",
    "    t = np.arange(len(ydata))\n",
    "    # ensure re-initialization \n",
    "    I0=ydata[0]\n",
    "    S0=N0-I0\n",
    "    R0=0\n",
    "    beta\n",
    "    \n",
    "    # example curve of our differential equationa\n",
    "    popt=[0.4,0.1]\n",
    "    fit_odeint(t, *popt)\n",
    "    \n",
    "    \n",
    "    popt, pcov = optimize.curve_fit(fit_odeint, t, ydata)\n",
    "    perr = np.sqrt(np.diag(pcov))\n",
    "    \n",
    "    print('standard deviation errors : ',str(perr), ' start infect:',ydata[0])\n",
    "    print(\"Optimal parameters: beta =\", popt[0], \" and gamma = \", popt[1])\n",
    "    \n",
    "    \n",
    "    # get the final fitted curve\n",
    "    fitted=fit_odeint(t, *popt)\n",
    "    df1 = df1.append({'country': country,'t': t, 'ydata':ydata,'fitted':fitted},ignore_index=True)\n",
    "print(df1.T)"
   ]
  },
  {
   "cell_type": "code",
   "execution_count": null,
   "id": "89ca04b2",
   "metadata": {},
   "outputs": [],
   "source": [
    "df1 "
   ]
  },
  {
   "cell_type": "code",
   "execution_count": null,
   "id": "4b448dee",
   "metadata": {},
   "outputs": [],
   "source": [
    "# Final dataframe\n",
    "d_fin = pd.DataFrame({'timeline' : df1.t[0],'Italy_fitted': df1.fitted[0],  'Italy' : df1.ydata[0],\n",
    "                  'Germany_fitted': df1.fitted[1],  'Germany' : df1.ydata[1]})\n",
    "\n",
    "d_fin"
   ]
  },
  {
   "cell_type": "markdown",
   "id": "456ddf1b",
   "metadata": {},
   "source": [
    "**Curve for Italy**"
   ]
  },
  {
   "cell_type": "markdown",
   "id": "15875a7c",
   "metadata": {},
   "source": [
    "* Original and fitted population"
   ]
  },
  {
   "cell_type": "code",
   "execution_count": null,
   "id": "e690154f",
   "metadata": {},
   "outputs": [],
   "source": [
    "fig, ax1 = plt.subplots(1,1)\n",
    "\n",
    "ax1.plot(df1.t[0],df1.ydata[0],label='infected_ydata',color='k')\n",
    "ax1.plot(df1.t[0],df1.fitted[0],label='infected_fitted')\n",
    "\n",
    "ax1.set_ylim(5, 100000000)\n",
    "ax1.set_yscale('log')\n",
    "ax1.set_title('Szenario SIR simulations  (demonstration purposes only)',size=16)\n",
    "ax1.set_xlabel('time in days',size=16)\n",
    "ax1.legend(loc='best',\n",
    "           prop={'size': 16});"
   ]
  },
  {
   "cell_type": "markdown",
   "id": "b8342a94",
   "metadata": {},
   "source": [
    "# Dynamic Dashboard"
   ]
  },
  {
   "cell_type": "markdown",
   "id": "38cca376",
   "metadata": {},
   "source": [
    "* Use of Dash Plotly"
   ]
  },
  {
   "cell_type": "code",
   "execution_count": null,
   "id": "81790953",
   "metadata": {},
   "outputs": [],
   "source": [
    "country_list = ['Italy','Germany','Canada']\n",
    "country_list"
   ]
  },
  {
   "cell_type": "code",
   "execution_count": null,
   "id": "e84f02a8",
   "metadata": {},
   "outputs": [],
   "source": [
    "\n",
    "import pandas as pd\n",
    "import numpy as np\n",
    "\n",
    "import dash\n",
    "dash.__version__\n",
    "import dash_core_components as dcc\n",
    "import dash_html_components as html\n",
    "from dash.dependencies import Input, Output,State\n",
    "\n",
    "import plotly.graph_objects as go\n",
    "\n",
    "import os\n",
    "\n",
    "\n",
    "\n",
    "fig = go.Figure()\n",
    "\n",
    "app = dash.Dash()\n",
    "app.layout = html.Div([\n",
    "    dcc.Markdown('''\n",
    "    #  Dynamic Dashboard\n",
    "    (Using Dash Plotly)\n",
    "\n",
    "    Goal of the exercise is to select and visualize the fit of different countries.\n",
    "\n",
    "    '''),\n",
    "    \n",
    "   \n",
    "    html.Br(),\n",
    "    html.Br(),\n",
    "\n",
    "    dcc.Dropdown(\n",
    "        id='country_drop_down',\n",
    "        options=[ {'label': 'Italy','value':'Italy'},\n",
    "                  {'label': 'Germany','value':'Germany'},\n",
    "                  {'label': 'Canada','value':'Canada'}],\n",
    "        value=['Italy'],# which are pre-selected\n",
    "        placeholder = 'Multi-Select Country for Visualization',\n",
    "        multi=True\n",
    "    ),\n",
    "\n",
    "\n",
    "    dcc.Graph(figure=fig, id='main_window_slope')\n",
    "])"
   ]
  },
  {
   "cell_type": "code",
   "execution_count": null,
   "id": "f3ab170a",
   "metadata": {},
   "outputs": [],
   "source": [
    "@app.callback(Output('main_window_slope', 'figure'),[Input('country_drop_down', 'value')])\n",
    "\n",
    "def update_figure(country_list):\n",
    "    \n",
    "    traces = []\n",
    "    for each in country_list:\n",
    "        traces.append(dict(x=d_fin.timeline,y=d_fin[str(each + '_fitted')],mode='markers+lines',opacity=0.9,name=str(each+\"_fitted\")))\n",
    "            \n",
    "        traces.append(dict(x=d_fin.timeline,y=d_fin[each],mode='markers+lines',opacity=0.9,name= str(each+\"_ydata\")))\n",
    "\n",
    "    return {\n",
    "            'data': traces,\n",
    "            'layout': dict(width=1280,height=720, title = 'Infected along with fit curve',\n",
    "                            xaxis={'title':'Timeline','tickangle':-45,'nticks':20,'tickfont':dict(size=14,color=\"#7f7f7f\")},\n",
    "                            yaxis= {'type':\"log\",'range':'[1.1,5.5]'})}"
   ]
  },
  {
   "cell_type": "code",
   "execution_count": null,
   "id": "86c998c0",
   "metadata": {},
   "outputs": [],
   "source": [
    "if __name__ == '__main__':\n",
    "\n",
    "    app.run_server(port = 4086,debug=True, use_reloader=False)"
   ]
  },
  {
   "cell_type": "code",
   "execution_count": null,
   "id": "ad394e2f",
   "metadata": {},
   "outputs": [],
   "source": []
  }
 ],
 "metadata": {
  "kernelspec": {
   "display_name": "Python 3 (ipykernel)",
   "language": "python",
   "name": "python3"
  },
  "language_info": {
   "codemirror_mode": {
    "name": "ipython",
    "version": 3
   },
   "file_extension": ".py",
   "mimetype": "text/x-python",
   "name": "python",
   "nbconvert_exporter": "python",
   "pygments_lexer": "ipython3",
   "version": "3.10.5"
  }
 },
 "nbformat": 4,
 "nbformat_minor": 5
}
